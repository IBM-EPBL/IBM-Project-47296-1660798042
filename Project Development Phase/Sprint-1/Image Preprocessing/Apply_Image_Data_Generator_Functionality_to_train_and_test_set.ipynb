{
  "nbformat": 4,
  "nbformat_minor": 0,
  "metadata": {
    "colab": {
      "provenance": [],
      "collapsed_sections": []
    },
    "kernelspec": {
      "name": "python3",
      "display_name": "Python 3"
    },
    "language_info": {
      "name": "python"
    }
  },
  "cells": [
    {
      "cell_type": "code",
      "execution_count": 70,
      "metadata": {
        "id": "kXrmLxJgEU12"
      },
      "outputs": [],
      "source": [
        "from tensorflow.keras.preprocessing.image import ImageDataGenerator"
      ]
    },
    {
      "cell_type": "code",
      "source": [
        "# Testing Datagen\n",
        "test_datagen = ImageDataGenerator(rescale=1/255)\n",
        "# Training Datagen\n",
        "train_datagen = ImageDataGenerator(rescale=1/255,zoom_range=0.2,horizontal_flip=True,vertical_flip=False)"
      ],
      "metadata": {
        "id": "MxbE2FUNFONY"
      },
      "execution_count": 71,
      "outputs": []
    },
    {
      "cell_type": "markdown",
      "source": [
        "**Applying ImageDataGenerator Functionality to Trainset and Testset**"
      ],
      "metadata": {
        "id": "Uab4ccUIFfx-"
      }
    },
    {
      "cell_type": "code",
      "source": [
        "x_train=train_datagen.flow_from_directory('/content/training_set',target_size=(64,64),batch_size=300,class_mode='categorical',color_mode=\"grayscale\")\n"
      ],
      "metadata": {
        "colab": {
          "base_uri": "https://localhost:8080/"
        },
        "id": "JLU8MpOZFoo0",
        "outputId": "6115ec1a-83be-49a5-b6fa-063fa044fbbf"
      },
      "execution_count": 31,
      "outputs": [
        {
          "output_type": "stream",
          "name": "stdout",
          "text": [
            "Found 15130 images belonging to 9 classes.\n"
          ]
        }
      ]
    },
    {
      "cell_type": "code",
      "source": [
        "x_test=test_datagen.flow_from_directory('/content/test_set',target_size=(64,64),batch_size=300,class_mode='categorical',color_mode=\"grayscale\")\n"
      ],
      "metadata": {
        "colab": {
          "base_uri": "https://localhost:8080/"
        },
        "id": "DFQk7BL5GmN_",
        "outputId": "b10ab383-af39-4e57-f6ef-d1e983514599"
      },
      "execution_count": 32,
      "outputs": [
        {
          "output_type": "stream",
          "name": "stdout",
          "text": [
            "Found 2250 images belonging to 9 classes.\n"
          ]
        }
      ]
    },
    {
      "cell_type": "code",
      "source": [
        "print(\"Len x-train : \",len(x_train))\n",
        "print(\"Len x-test : \", len(x_test))"
      ],
      "metadata": {
        "colab": {
          "base_uri": "https://localhost:8080/"
        },
        "id": "MhjinF9CgsdY",
        "outputId": "250fc8f2-a0fe-435a-aa4b-923918a3e6fe"
      },
      "execution_count": 72,
      "outputs": [
        {
          "output_type": "stream",
          "name": "stdout",
          "text": [
            "Len x-train :  51\n",
            "Len x-test :  8\n"
          ]
        }
      ]
    },
    {
      "cell_type": "code",
      "source": [
        "# The Class Indices in Training Dataset\n",
        "x_train.class_indices"
      ],
      "metadata": {
        "colab": {
          "base_uri": "https://localhost:8080/"
        },
        "id": "U6WzLPNYg1MI",
        "outputId": "45598280-c0df-402d-d428-f495620d675c"
      },
      "execution_count": 73,
      "outputs": [
        {
          "output_type": "execute_result",
          "data": {
            "text/plain": [
              "{'A': 0, 'B': 1, 'C': 2, 'D': 3, 'E': 4, 'F': 5, 'G': 6, 'H': 7, 'I': 8}"
            ]
          },
          "metadata": {},
          "execution_count": 73
        }
      ]
    },
    {
      "cell_type": "code",
      "source": [
        "datagen=ImageDataGenerator(rescale=1./255.,validation_split=0.25)"
      ],
      "metadata": {
        "id": "TjfRwvv4hIEz"
      },
      "execution_count": 76,
      "outputs": []
    },
    {
      "cell_type": "code",
      "source": [
        "train_generator=datagen.flow_from_dataframe\n",
        "(\n",
        "  dataframe=traindf,\n",
        "  directory=\"/content\",\n",
        "  x_col=\"image\",\n",
        "  y_col=\"label\",\n",
        "  subset=\"training\",\n",
        "  batch_size=32,\n",
        "  seed=42,\n",
        "  shuffle=True,\n",
        "  class_mode=\"categorical\",\n",
        "  target_size=(150,150)\n",
        ")"
      ],
      "metadata": {
        "id": "FWgbGeljhbJX"
      },
      "execution_count": null,
      "outputs": []
    },
    {
      "cell_type": "code",
      "source": [
        "validation_generator=datagen.flow_from_dataframe\n",
        "(\n",
        "  dataframe=traindf,\n",
        "  directory=\"/content/\",\n",
        "  x_col=\"image\",\n",
        "  y_col=\"label\",\n",
        "  subset=\"validation\",\n",
        "  batch_size=32,\n",
        "  seed=42,\n",
        "  shuffle=True,\n",
        "  class_mode=\"categorical\",\n",
        "  target_size=(150,150)\n",
        ")"
      ],
      "metadata": {
        "id": "fNwME9vghcpZ"
      },
      "execution_count": null,
      "outputs": []
    }
  ]
}